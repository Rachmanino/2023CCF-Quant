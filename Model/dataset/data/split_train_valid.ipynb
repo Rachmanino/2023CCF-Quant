{
 "cells": [
  {
   "cell_type": "code",
   "execution_count": 1,
   "metadata": {},
   "outputs": [],
   "source": [
    "import pandas as pd\n"
   ]
  },
  {
   "cell_type": "code",
   "execution_count": 2,
   "metadata": {},
   "outputs": [
    {
     "data": {
      "text/html": [
       "<div>\n",
       "<style scoped>\n",
       "    .dataframe tbody tr th:only-of-type {\n",
       "        vertical-align: middle;\n",
       "    }\n",
       "\n",
       "    .dataframe tbody tr th {\n",
       "        vertical-align: top;\n",
       "    }\n",
       "\n",
       "    .dataframe thead th {\n",
       "        text-align: right;\n",
       "    }\n",
       "</style>\n",
       "<table border=\"1\" class=\"dataframe\">\n",
       "  <thead>\n",
       "    <tr style=\"text-align: right;\">\n",
       "      <th></th>\n",
       "      <th>code</th>\n",
       "      <th>date</th>\n",
       "      <th>times</th>\n",
       "      <th>open_price</th>\n",
       "      <th>high_price</th>\n",
       "      <th>low_price</th>\n",
       "      <th>close_price</th>\n",
       "      <th>vwap</th>\n",
       "      <th>money</th>\n",
       "      <th>volume</th>\n",
       "      <th>code_index</th>\n",
       "    </tr>\n",
       "  </thead>\n",
       "  <tbody>\n",
       "    <tr>\n",
       "      <th>0</th>\n",
       "      <td>000009.SZ</td>\n",
       "      <td>20220902</td>\n",
       "      <td>93000000</td>\n",
       "      <td>14.60</td>\n",
       "      <td>14.60</td>\n",
       "      <td>14.60</td>\n",
       "      <td>14.60</td>\n",
       "      <td>14.600000</td>\n",
       "      <td>49669200000</td>\n",
       "      <td>340200</td>\n",
       "      <td>0</td>\n",
       "    </tr>\n",
       "    <tr>\n",
       "      <th>1</th>\n",
       "      <td>000009.SZ</td>\n",
       "      <td>20220902</td>\n",
       "      <td>93300000</td>\n",
       "      <td>14.60</td>\n",
       "      <td>14.60</td>\n",
       "      <td>14.58</td>\n",
       "      <td>14.58</td>\n",
       "      <td>14.591919</td>\n",
       "      <td>46460670000</td>\n",
       "      <td>318400</td>\n",
       "      <td>0</td>\n",
       "    </tr>\n",
       "    <tr>\n",
       "      <th>2</th>\n",
       "      <td>000009.SZ</td>\n",
       "      <td>20220902</td>\n",
       "      <td>93400000</td>\n",
       "      <td>14.58</td>\n",
       "      <td>14.58</td>\n",
       "      <td>14.56</td>\n",
       "      <td>14.56</td>\n",
       "      <td>14.569582</td>\n",
       "      <td>28570950000</td>\n",
       "      <td>196100</td>\n",
       "      <td>0</td>\n",
       "    </tr>\n",
       "    <tr>\n",
       "      <th>3</th>\n",
       "      <td>000009.SZ</td>\n",
       "      <td>20220902</td>\n",
       "      <td>93500000</td>\n",
       "      <td>14.57</td>\n",
       "      <td>14.57</td>\n",
       "      <td>14.50</td>\n",
       "      <td>14.51</td>\n",
       "      <td>14.524857</td>\n",
       "      <td>34423910000</td>\n",
       "      <td>237000</td>\n",
       "      <td>0</td>\n",
       "    </tr>\n",
       "    <tr>\n",
       "      <th>4</th>\n",
       "      <td>000009.SZ</td>\n",
       "      <td>20220902</td>\n",
       "      <td>93800000</td>\n",
       "      <td>14.56</td>\n",
       "      <td>14.56</td>\n",
       "      <td>14.48</td>\n",
       "      <td>14.48</td>\n",
       "      <td>14.522299</td>\n",
       "      <td>39602310000</td>\n",
       "      <td>272700</td>\n",
       "      <td>0</td>\n",
       "    </tr>\n",
       "  </tbody>\n",
       "</table>\n",
       "</div>"
      ],
      "text/plain": [
       "        code      date     times  open_price  high_price  low_price  \\\n",
       "0  000009.SZ  20220902  93000000       14.60       14.60      14.60   \n",
       "1  000009.SZ  20220902  93300000       14.60       14.60      14.58   \n",
       "2  000009.SZ  20220902  93400000       14.58       14.58      14.56   \n",
       "3  000009.SZ  20220902  93500000       14.57       14.57      14.50   \n",
       "4  000009.SZ  20220902  93800000       14.56       14.56      14.48   \n",
       "\n",
       "   close_price       vwap        money  volume  code_index  \n",
       "0        14.60  14.600000  49669200000  340200           0  \n",
       "1        14.58  14.591919  46460670000  318400           0  \n",
       "2        14.56  14.569582  28570950000  196100           0  \n",
       "3        14.51  14.524857  34423910000  237000           0  \n",
       "4        14.48  14.522299  39602310000  272700           0  "
      ]
     },
     "execution_count": 2,
     "metadata": {},
     "output_type": "execute_result"
    }
   ],
   "source": [
    "df = pd.read_csv(\"./000009.SZ_data.csv\", index_col=0)\n",
    "df.head()"
   ]
  },
  {
   "cell_type": "code",
   "execution_count": 3,
   "metadata": {},
   "outputs": [],
   "source": [
    "num_rows = len(df)\n",
    "\n",
    "eval_len = num_rows // 8\n",
    "\n",
    "\n",
    "train = df.iloc[:num_rows - eval_len, :]\n",
    "eval = df.iloc[num_rows - eval_len:, :]"
   ]
  },
  {
   "cell_type": "code",
   "execution_count": 4,
   "metadata": {},
   "outputs": [
    {
     "name": "stdout",
     "output_type": "stream",
     "text": [
      "        code      date     times  open_price  high_price  low_price  \\\n",
      "0  000009.SZ  20220902  93000000       14.60       14.60      14.60   \n",
      "1  000009.SZ  20220902  93300000       14.60       14.60      14.58   \n",
      "2  000009.SZ  20220902  93400000       14.58       14.58      14.56   \n",
      "3  000009.SZ  20220902  93500000       14.57       14.57      14.50   \n",
      "4  000009.SZ  20220902  93800000       14.56       14.56      14.48   \n",
      "\n",
      "   close_price       vwap        money  volume  code_index  \n",
      "0        14.60  14.600000  49669200000  340200           0  \n",
      "1        14.58  14.591919  46460670000  318400           0  \n",
      "2        14.56  14.569582  28570950000  196100           0  \n",
      "3        14.51  14.524857  34423910000  237000           0  \n",
      "4        14.48  14.522299  39602310000  272700           0  \n",
      "               code      date      times  open_price  high_price  low_price  \\\n",
      "25543687  000009.SZ  20230721  145500000       11.39       11.40      11.38   \n",
      "25648905  000009.SZ  20230721   93000000       11.40       11.40      11.40   \n",
      "25648906  000009.SZ  20230721   93600000       11.40       11.41      11.39   \n",
      "25648907  000009.SZ  20230721   94000000       11.36       11.39      11.35   \n",
      "25648908  000009.SZ  20230721   94200000       11.37       11.39      11.36   \n",
      "\n",
      "          close_price       vwap       money  volume  code_index  \n",
      "25543687        11.39  11.392294  2483520000   21800           0  \n",
      "25648905        11.40  11.400000  1607400000   14100           0  \n",
      "25648906        11.39  11.397175  8228760000   72200           0  \n",
      "25648907        11.37  11.367892  7548280000   66400           0  \n",
      "25648908        11.39  11.374960  8622220000   75800           0  \n",
      "        code      date      times  open_price  high_price  low_price  \\\n",
      "0  000009.SZ  20230721  145500000       11.39       11.40      11.38   \n",
      "1  000009.SZ  20230721   93000000       11.40       11.40      11.40   \n",
      "2  000009.SZ  20230721   93600000       11.40       11.41      11.39   \n",
      "3  000009.SZ  20230721   94000000       11.36       11.39      11.35   \n",
      "4  000009.SZ  20230721   94200000       11.37       11.39      11.36   \n",
      "\n",
      "   close_price       vwap       money  volume  code_index  \n",
      "0        11.39  11.392294  2483520000   21800           0  \n",
      "1        11.40  11.400000  1607400000   14100           0  \n",
      "2        11.39  11.397175  8228760000   72200           0  \n",
      "3        11.37  11.367892  7548280000   66400           0  \n",
      "4        11.39  11.374960  8622220000   75800           0  \n"
     ]
    }
   ],
   "source": [
    "print(train.head())\n",
    "print(eval.head())\n",
    "\n",
    "eval = eval.reset_index(drop=True)\n",
    "print(eval.head())"
   ]
  },
  {
   "cell_type": "code",
   "execution_count": 5,
   "metadata": {},
   "outputs": [
    {
     "name": "stdout",
     "output_type": "stream",
     "text": [
      "        code      date      times  open_price  high_price  low_price  \\\n",
      "0  000009.SZ  20230721  145500000       11.39       11.40      11.38   \n",
      "1  000009.SZ  20230721   93000000       11.40       11.40      11.40   \n",
      "2  000009.SZ  20230721   93600000       11.40       11.41      11.39   \n",
      "3  000009.SZ  20230721   94000000       11.36       11.39      11.35   \n",
      "4  000009.SZ  20230721   94200000       11.37       11.39      11.36   \n",
      "\n",
      "   close_price       vwap       money  volume  code_index  \n",
      "0        11.39  11.392294  2483520000   21800           0  \n",
      "1        11.40  11.400000  1607400000   14100           0  \n",
      "2        11.39  11.397175  8228760000   72200           0  \n",
      "3        11.37  11.367892  7548280000   66400           0  \n",
      "4        11.39  11.374960  8622220000   75800           0  \n"
     ]
    }
   ],
   "source": [
    "print(eval.head())"
   ]
  },
  {
   "cell_type": "code",
   "execution_count": 6,
   "metadata": {},
   "outputs": [],
   "source": [
    "train = train.dropna()\n",
    "eval = eval.dropna()\n",
    "\n",
    "train = train.reset_index(drop=True)\n",
    "eval = eval.reset_index(drop=True)"
   ]
  },
  {
   "cell_type": "code",
   "execution_count": 7,
   "metadata": {},
   "outputs": [],
   "source": [
    "train.to_csv(\"./train.csv\")\n",
    "eval.to_csv(\"./eval.csv\")"
   ]
  }
 ],
 "metadata": {
  "kernelspec": {
   "display_name": "py37",
   "language": "python",
   "name": "python3"
  },
  "language_info": {
   "codemirror_mode": {
    "name": "ipython",
    "version": 3
   },
   "file_extension": ".py",
   "mimetype": "text/x-python",
   "name": "python",
   "nbconvert_exporter": "python",
   "pygments_lexer": "ipython3",
   "version": "3.7.16"
  }
 },
 "nbformat": 4,
 "nbformat_minor": 2
}
